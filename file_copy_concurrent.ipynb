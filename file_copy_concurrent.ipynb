{
 "cells": [
  {
   "cell_type": "code",
   "execution_count": 51,
   "id": "4cab9b12",
   "metadata": {},
   "outputs": [],
   "source": [
    "import os\n",
    "import re\n",
    "import shutil\n",
    "import concurrent"
   ]
  },
  {
   "cell_type": "code",
   "execution_count": 83,
   "id": "7f03bbb1",
   "metadata": {},
   "outputs": [],
   "source": [
    "def file_list(dir_loc, pattern):\n",
    "    full_list = []\n",
    "    for i in os.listdir(dir_loc):\n",
    "        if re.match(pattern, i):\n",
    "            full_list.append(os.path.join(dir_loc,i))\n",
    "    return(full_list)\n",
    "        \n",
    "def copy_files(source_file, dest_dir):\n",
    "           print(\"copied file from {} to {}\".format(source_file,dest_dir))\n",
    "           dest = shutil.copy(source_file, dest_dir)\n",
    "\n",
    "\n",
    "def thread_copy(source_dir,dest_dir,pattern):\n",
    "    file_to_copy_list = file_list(source_dir, pattern)\n",
    "    with concurrent.futures.ThreadPoolExecutor(10) as exe:\n",
    "        for source_file in file_to_copy_list:\n",
    "            exe.submit(copy_files,source_file,dest_dir)"
   ]
  },
  {
   "cell_type": "code",
   "execution_count": 85,
   "id": "f1236d3c",
   "metadata": {},
   "outputs": [
    {
     "name": "stdout",
     "output_type": "stream",
     "text": [
      "copied file from C:\\Users\\91750\\Downloads\\Takeout\\takeout-20220919T041128Z-001.zip to E:\\Pictures\\Anand-GooglePhotos\n",
      "copied file from C:\\Users\\91750\\Downloads\\Takeout\\takeout-20220919T041128Z-002.zip to E:\\Pictures\\Anand-GooglePhotoscopied file from C:\\Users\\91750\\Downloads\\Takeout\\takeout-20220919T041128Z-003.zip to E:\\Pictures\\Anand-GooglePhotos\n",
      "\n",
      "copied file from C:\\Users\\91750\\Downloads\\Takeout\\takeout-20220919T041128Z-004.zip to E:\\Pictures\\Anand-GooglePhotos\n",
      "copied file from C:\\Users\\91750\\Downloads\\Takeout\\takeout-20220919T041128Z-005.zip to E:\\Pictures\\Anand-GooglePhotos\n",
      "copied file from C:\\Users\\91750\\Downloads\\Takeout\\takeout-20220919T041128Z-006.zip to E:\\Pictures\\Anand-GooglePhotos\n",
      "copied file from C:\\Users\\91750\\Downloads\\Takeout\\takeout-20220919T041128Z-007.zip to E:\\Pictures\\Anand-GooglePhotos\n",
      "copied file from C:\\Users\\91750\\Downloads\\Takeout\\takeout-20220919T041128Z-008.zip to E:\\Pictures\\Anand-GooglePhotos\n",
      "copied file from C:\\Users\\91750\\Downloads\\Takeout\\takeout-20220919T041128Z-009.zip to E:\\Pictures\\Anand-GooglePhotos\n",
      "copied file from C:\\Users\\91750\\Downloads\\Takeout\\takeout-20220919T041128Z-010.zip to E:\\Pictures\\Anand-GooglePhotos\n",
      "copied file from C:\\Users\\91750\\Downloads\\Takeout\\takeout-20220919T041128Z-011.zip to E:\\Pictures\\Anand-GooglePhotos\n",
      "copied file from C:\\Users\\91750\\Downloads\\Takeout\\takeout-20220919T041128Z-012.zip to E:\\Pictures\\Anand-GooglePhotoscopied file from C:\\Users\\91750\\Downloads\\Takeout\\takeout-20220919T041128Z-013.zip to E:\\Pictures\\Anand-GooglePhotoscopied file from C:\\Users\\91750\\Downloads\\Takeout\\takeout-20220919T041128Z-014.zip to E:\\Pictures\\Anand-GooglePhotos\n",
      "\n",
      "\n",
      "copied file from C:\\Users\\91750\\Downloads\\Takeout\\takeout-20220919T041128Z-015.zip to E:\\Pictures\\Anand-GooglePhotos\n",
      "copied file from C:\\Users\\91750\\Downloads\\Takeout\\takeout-20220919T041128Z-016.zip to E:\\Pictures\\Anand-GooglePhotos\n",
      "copied file from C:\\Users\\91750\\Downloads\\Takeout\\takeout-20220919T041128Z-017.zip to E:\\Pictures\\Anand-GooglePhotos\n"
     ]
    }
   ],
   "source": [
    "pattern = 'takeout'\n",
    "# pattern = '1506'\n",
    "source_dir = 'C:\\\\Users\\\\91750\\\\Downloads\\\\Takeout'\n",
    "# source_dir = \"C:\\\\Users\\\\91750\\\\Downloads\\\\pdf\"\n",
    "dest_dir = 'E:\\\\Pictures\\\\Anand-GooglePhotos'\n",
    "\n",
    "thread_copy(source_dir,dest_dir,pattern)\n",
    "# f1 = file_list(source_file,pattern)\n",
    "# for name in f1:\n",
    "#     copy_files(name,'E:\\\\Pictures\\\\Anand-GooglePhotos')"
   ]
  },
  {
   "cell_type": "code",
   "execution_count": null,
   "id": "10f5c43e",
   "metadata": {},
   "outputs": [],
   "source": []
  },
  {
   "cell_type": "code",
   "execution_count": null,
   "id": "fb092c09",
   "metadata": {},
   "outputs": [],
   "source": []
  },
  {
   "cell_type": "code",
   "execution_count": null,
   "id": "c157bbe2",
   "metadata": {},
   "outputs": [],
   "source": []
  }
 ],
 "metadata": {
  "kernelspec": {
   "display_name": "Python 3",
   "language": "python",
   "name": "python3"
  },
  "language_info": {
   "codemirror_mode": {
    "name": "ipython",
    "version": 3
   },
   "file_extension": ".py",
   "mimetype": "text/x-python",
   "name": "python",
   "nbconvert_exporter": "python",
   "pygments_lexer": "ipython3",
   "version": "3.8.8"
  }
 },
 "nbformat": 4,
 "nbformat_minor": 5
}
